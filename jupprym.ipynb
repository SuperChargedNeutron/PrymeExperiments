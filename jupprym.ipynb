{
 "cells": [
  {
   "cell_type": "code",
   "execution_count": 3,
   "metadata": {},
   "outputs": [],
   "source": [
    "import pandas as pd\n",
    "import numpy as np"
   ]
  },
  {
   "cell_type": "code",
   "execution_count": 4,
   "metadata": {},
   "outputs": [
    {
     "name": "stdout",
     "output_type": "stream",
     "text": [
      "Enter a range. This program will search and print \n",
      "the primes within the given range.\n",
      "\n",
      "Enter lower bound: 1\n",
      "Enter upper bound: 100\n",
      "\n"
     ]
    }
   ],
   "source": [
    "print('Enter a range. This program will search and print ')\n",
    "print('the primes within the given range.')    \n",
    "print()\n",
    "LB = int(input('Enter lower bound: '))\n",
    "UB = int(input('Enter upper bound: '))\n",
    "print()\n",
    "\n",
    "#make emptry number list\n",
    "num_list = []\n",
    "\n",
    "#populate number list\n",
    "#with user's range\n",
    "for i in range (LB, UB):\n",
    "    num_list.append(i)"
   ]
  },
  {
   "cell_type": "code",
   "execution_count": 12,
   "metadata": {},
   "outputs": [
    {
     "name": "stdout",
     "output_type": "stream",
     "text": [
      "[2, 3, 4, 5, 6, 7, 8, 9]\n"
     ]
    }
   ],
   "source": [
    "divlist = []\n",
    "\n",
    "for div in range(2, int(np.sqrt(UB))):\n",
    "    divlist.append(div)\n",
    "print(divlist)       "
   ]
  },
  {
   "cell_type": "code",
   "execution_count": 40,
   "metadata": {},
   "outputs": [
    {
     "name": "stdout",
     "output_type": "stream",
     "text": [
      "[2, 3, 5, 7]\n"
     ]
    }
   ],
   "source": [
    "primdivlist = divlist[:]\n",
    "\n",
    "for pdiv in range (2, int(np.sqrt(divlist[-1]))+1):\n",
    "    for num in primdivlist:\n",
    "        if num%pdiv == 0 and pdiv != num:\n",
    "            primdivlist.remove(num)\n",
    "print(primdivlist)"
   ]
  },
  {
   "cell_type": "code",
   "execution_count": 41,
   "metadata": {},
   "outputs": [
    {
     "name": "stdout",
     "output_type": "stream",
     "text": [
      "['Numbers', 'mod 2', 'mod 3', 'mod 5', 'mod 7']\n"
     ]
    }
   ],
   "source": [
    "columns = [\"Numbers\"]\n",
    "columadd = len(primdivlist)\n",
    "for add in range (0, columadd):\n",
    "    mod = \"mod \" + str(primdivlist[add])\n",
    "    columns.append(mod)\n",
    "print(columns)"
   ]
  },
  {
   "cell_type": "code",
   "execution_count": 43,
   "metadata": {},
   "outputs": [
    {
     "name": "stdout",
     "output_type": "stream",
     "text": [
      "Empty DataFrame\n",
      "Columns: [Numbers, mod 2, mod 3, mod 5, mod 7]\n",
      "Index: []\n"
     ]
    }
   ],
   "source": [
    "df = pd.DataFrame(columns = columns)\n",
    "print(df)"
   ]
  },
  {
   "cell_type": "code",
   "execution_count": null,
   "metadata": {},
   "outputs": [],
   "source": [
    "##populate the columns"
   ]
  },
  {
   "cell_type": "code",
   "execution_count": null,
   "metadata": {},
   "outputs": [],
   "source": []
  }
 ],
 "metadata": {
  "kernelspec": {
   "display_name": "prymeexp",
   "language": "python",
   "name": "prymeexp"
  },
  "language_info": {
   "codemirror_mode": {
    "name": "ipython",
    "version": 3
   },
   "file_extension": ".py",
   "mimetype": "text/x-python",
   "name": "python",
   "nbconvert_exporter": "python",
   "pygments_lexer": "ipython3",
   "version": "3.7.4"
  }
 },
 "nbformat": 4,
 "nbformat_minor": 2
}
